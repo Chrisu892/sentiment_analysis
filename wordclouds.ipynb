{
 "cells": [
  {
   "cell_type": "code",
   "execution_count": null,
   "id": "fe07cab0-5484-4700-83bf-6652a28c6a5f",
   "metadata": {
    "tags": []
   },
   "outputs": [],
   "source": [
    "import sqlite3, pandas as pd\n",
    "\n",
    "def load_sql(db_name, tbl_name):\n",
    "    \"\"\"Load SQLite database.\"\"\"\n",
    "    con = sqlite3.connect(f\"database/{db_name}.db\")\n",
    "    df = pd.read_sql(f\"SELECT * FROM {tbl_name}\", con)\n",
    "    con.close()\n",
    "    return df\n",
    "\n",
    "df = load_sql('tweets_v7', 'tweets_v7')"
   ]
  },
  {
   "cell_type": "code",
   "execution_count": null,
   "id": "1084cd30-dcf8-4621-afeb-d1d908f6a4a5",
   "metadata": {},
   "outputs": [],
   "source": [
    "pos_words = []\n",
    "neg_words = []\n",
    "\n",
    "with open('resources/pos_words.txt', 'r') as file:\n",
    "    for word in file.readlines():\n",
    "        word = word.replace('\\n', '')\n",
    "        pos_words.append(word)\n",
    "    \n",
    "with open('resources/neg_words.txt') as file:\n",
    "    for word in file.readlines():\n",
    "        word = word.replace('\\n', '')\n",
    "        neg_words.append(word)"
   ]
  },
  {
   "cell_type": "code",
   "execution_count": null,
   "id": "31e505f4-b805-4949-a57a-6668ceba9de5",
   "metadata": {},
   "outputs": [],
   "source": [
    "from gensim.utils import simple_preprocess\n",
    "\n",
    "def gen_words(texts):\n",
    "    final = []\n",
    "    for text in texts:\n",
    "        new = simple_preprocess(text, deacc=True)\n",
    "        final.append(new)\n",
    "    return final\n",
    "\n",
    "data_words = gen_words(df['text'])"
   ]
  },
  {
   "cell_type": "code",
   "execution_count": null,
   "id": "6e405692-806c-4ad9-82c7-e6ec3334d388",
   "metadata": {},
   "outputs": [],
   "source": [
    "from collections import Counter\n",
    "\n",
    "neg_words_list = []\n",
    "pos_words_list = []\n",
    "\n",
    "for text in data_words:\n",
    "    for word in text:\n",
    "        if word in neg_words:\n",
    "            neg_words_list.append(word)\n",
    "        if word in pos_words:\n",
    "            pos_words_list.append(word)\n",
    "            \n",
    "neg_words_list = Counter(neg_words_list)\n",
    "pos_words_list = Counter(pos_words_list)"
   ]
  },
  {
   "cell_type": "code",
   "execution_count": null,
   "id": "5b910833-a698-4c11-ac94-91baceaba96b",
   "metadata": {},
   "outputs": [],
   "source": [
    "import matplotlib.pyplot as plt\n",
    "from wordcloud import WordCloud\n",
    "\n",
    "def word_cloud(word_freq, title='Word Cloud'):\n",
    "    title = title.replace(' ', '_')\n",
    "    wc = WordCloud(\n",
    "        width=500,\n",
    "        height=300,\n",
    "        background_color='white',\n",
    "        colormap='Paired',\n",
    "        max_font_size=200,\n",
    "        max_words=100)\n",
    "    wc.generate_from_frequencies(word_freq)\n",
    "    plt.figure(figsize=(12,12))\n",
    "    plt.imshow(wc, interpolation='bilinear')\n",
    "    plt.axis('off')\n",
    "    plt.savefig(f'figures/WC_{title}')\n",
    "    \n",
    "word_cloud(neg_words_list, 'Negative Words')\n",
    "word_cloud(pos_words_list, 'Positive Words')"
   ]
  },
  {
   "cell_type": "code",
   "execution_count": null,
   "id": "278b93b6-f047-419f-ab5f-9bdc7e1bfb62",
   "metadata": {},
   "outputs": [],
   "source": []
  }
 ],
 "metadata": {
  "kernelspec": {
   "display_name": "Python 3 (ipykernel)",
   "language": "python",
   "name": "python3"
  },
  "language_info": {
   "codemirror_mode": {
    "name": "ipython",
    "version": 3
   },
   "file_extension": ".py",
   "mimetype": "text/x-python",
   "name": "python",
   "nbconvert_exporter": "python",
   "pygments_lexer": "ipython3",
   "version": "3.9.15"
  }
 },
 "nbformat": 4,
 "nbformat_minor": 5
}
